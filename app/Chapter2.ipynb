{
 "cells": [
  {
   "cell_type": "markdown",
   "metadata": {},
   "source": [
    "# Declaring the Data Model"
   ]
  },
  {
   "cell_type": "markdown",
   "metadata": {},
   "source": [
    "## Characters, Numbers, and Lists"
   ]
  },
  {
   "cell_type": "markdown",
   "metadata": {},
   "source": [
    "### Characters"
   ]
  },
  {
   "cell_type": "code",
   "execution_count": 1,
   "metadata": {
    "scrolled": true
   },
   "outputs": [
    {
     "output_type": "display_data",
     "data": {
      "text/plain": "True"
     },
     "metadata": {}
    },
    {
     "output_type": "display_data",
     "data": {
      "text/plain": "True"
     },
     "metadata": {}
    }
   ],
   "source": [
    "-- between Char and decimal \n",
    "'a' == '\\97' \n",
    "-- between Char and hexadecimal\n",
    "'a' == '\\x61'"
   ]
  },
  {
   "cell_type": "markdown",
   "metadata": {},
   "source": [
    "Using GHCi, you can check the actual type of each expression in the system. To do so, you use the `:t` command, followed by the expression. "
   ]
  },
  {
   "cell_type": "code",
   "execution_count": 2,
   "metadata": {
    "scrolled": true
   },
   "outputs": [
    {
     "output_type": "display_data",
     "data": {
      "text/html": "<style>/* Styles used for the Hoogle display in the pager */\n.hoogle-doc {\ndisplay: block;\npadding-bottom: 1.3em;\npadding-left: 0.4em;\n}\n.hoogle-code {\ndisplay: block;\nfont-family: monospace;\nwhite-space: pre;\n}\n.hoogle-text {\ndisplay: block;\n}\n.hoogle-name {\ncolor: green;\nfont-weight: bold;\n}\n.hoogle-head {\nfont-weight: bold;\n}\n.hoogle-sub {\ndisplay: block;\nmargin-left: 0.4em;\n}\n.hoogle-package {\nfont-weight: bold;\nfont-style: italic;\n}\n.hoogle-module {\nfont-weight: bold;\n}\n.hoogle-class {\nfont-weight: bold;\n}\n.get-type {\ncolor: green;\nfont-weight: bold;\nfont-family: monospace;\ndisplay: block;\nwhite-space: pre-wrap;\n}\n.show-type {\ncolor: green;\nfont-weight: bold;\nfont-family: monospace;\nmargin-left: 1em;\n}\n.mono {\nfont-family: monospace;\ndisplay: block;\n}\n.err-msg {\ncolor: red;\nfont-style: italic;\nfont-family: monospace;\nwhite-space: pre;\ndisplay: block;\n}\n#unshowable {\ncolor: red;\nfont-weight: bold;\n}\n.err-msg.in.collapse {\npadding-top: 0.7em;\n}\n.highlight-code {\nwhite-space: pre;\nfont-family: monospace;\n}\n.suggestion-warning { \nfont-weight: bold;\ncolor: rgb(200, 130, 0);\n}\n.suggestion-error { \nfont-weight: bold;\ncolor: red;\n}\n.suggestion-name {\nfont-weight: bold;\n}\n</style><span class='get-type'>'a' :: Char</span>",
      "text/plain": "'a' :: Char"
     },
     "metadata": {}
    }
   ],
   "source": [
    ":t 'a'"
   ]
  },
  {
   "cell_type": "markdown",
   "metadata": {},
   "source": [
    "Only few functions are loaded by default, so let's import a module with a lot more functions, in this case `Data.Char`"
   ]
  },
  {
   "cell_type": "code",
   "execution_count": 3,
   "metadata": {
    "scrolled": true
   },
   "outputs": [
    {
     "output_type": "display_data",
     "data": {
      "text/html": "<style>/* Styles used for the Hoogle display in the pager */\n.hoogle-doc {\ndisplay: block;\npadding-bottom: 1.3em;\npadding-left: 0.4em;\n}\n.hoogle-code {\ndisplay: block;\nfont-family: monospace;\nwhite-space: pre;\n}\n.hoogle-text {\ndisplay: block;\n}\n.hoogle-name {\ncolor: green;\nfont-weight: bold;\n}\n.hoogle-head {\nfont-weight: bold;\n}\n.hoogle-sub {\ndisplay: block;\nmargin-left: 0.4em;\n}\n.hoogle-package {\nfont-weight: bold;\nfont-style: italic;\n}\n.hoogle-module {\nfont-weight: bold;\n}\n.hoogle-class {\nfont-weight: bold;\n}\n.get-type {\ncolor: green;\nfont-weight: bold;\nfont-family: monospace;\ndisplay: block;\nwhite-space: pre-wrap;\n}\n.show-type {\ncolor: green;\nfont-weight: bold;\nfont-family: monospace;\nmargin-left: 1em;\n}\n.mono {\nfont-family: monospace;\ndisplay: block;\n}\n.err-msg {\ncolor: red;\nfont-style: italic;\nfont-family: monospace;\nwhite-space: pre;\ndisplay: block;\n}\n#unshowable {\ncolor: red;\nfont-weight: bold;\n}\n.err-msg.in.collapse {\npadding-top: 0.7em;\n}\n.highlight-code {\nwhite-space: pre;\nfont-family: monospace;\n}\n.suggestion-warning { \nfont-weight: bold;\ncolor: rgb(200, 130, 0);\n}\n.suggestion-error { \nfont-weight: bold;\ncolor: red;\n}\n.suggestion-name {\nfont-weight: bold;\n}\n</style><span class='get-type'>toUpper :: Char -> Char</span>",
      "text/plain": "toUpper :: Char -> Char"
     },
     "metadata": {}
    },
    {
     "output_type": "display_data",
     "data": {
      "text/plain": "'A'"
     },
     "metadata": {}
    },
    {
     "output_type": "display_data",
     "data": {
      "text/html": "<style>/* Styles used for the Hoogle display in the pager */\n.hoogle-doc {\ndisplay: block;\npadding-bottom: 1.3em;\npadding-left: 0.4em;\n}\n.hoogle-code {\ndisplay: block;\nfont-family: monospace;\nwhite-space: pre;\n}\n.hoogle-text {\ndisplay: block;\n}\n.hoogle-name {\ncolor: green;\nfont-weight: bold;\n}\n.hoogle-head {\nfont-weight: bold;\n}\n.hoogle-sub {\ndisplay: block;\nmargin-left: 0.4em;\n}\n.hoogle-package {\nfont-weight: bold;\nfont-style: italic;\n}\n.hoogle-module {\nfont-weight: bold;\n}\n.hoogle-class {\nfont-weight: bold;\n}\n.get-type {\ncolor: green;\nfont-weight: bold;\nfont-family: monospace;\ndisplay: block;\nwhite-space: pre-wrap;\n}\n.show-type {\ncolor: green;\nfont-weight: bold;\nfont-family: monospace;\nmargin-left: 1em;\n}\n.mono {\nfont-family: monospace;\ndisplay: block;\n}\n.err-msg {\ncolor: red;\nfont-style: italic;\nfont-family: monospace;\nwhite-space: pre;\ndisplay: block;\n}\n#unshowable {\ncolor: red;\nfont-weight: bold;\n}\n.err-msg.in.collapse {\npadding-top: 0.7em;\n}\n.highlight-code {\nwhite-space: pre;\nfont-family: monospace;\n}\n.suggestion-warning { \nfont-weight: bold;\ncolor: rgb(200, 130, 0);\n}\n.suggestion-error { \nfont-weight: bold;\ncolor: red;\n}\n.suggestion-name {\nfont-weight: bold;\n}\n</style><span class='get-type'>chr :: Int -> Char</span>",
      "text/plain": "chr :: Int -> Char"
     },
     "metadata": {}
    },
    {
     "output_type": "display_data",
     "data": {
      "text/plain": "'a'"
     },
     "metadata": {}
    },
    {
     "output_type": "error",
     "ename": "",
     "evalue": "",
     "traceback": [
      "<interactive>:1:5: error:\n    • Couldn't match expected type ‘Int’ with actual type ‘Char’\n    • In the first argument of ‘chr’, namely ‘'a'’\n      In the expression: chr 'a'\n      In an equation for ‘it’: it = chr 'a'"
     ]
    }
   ],
   "source": [
    "import Data.Char\n",
    "\n",
    ":t toUpper\n",
    "\n",
    "toUpper 'a'\n",
    "\n",
    ":t chr\n",
    "\n",
    "chr 97\n",
    "\n",
    "chr 'a'"
   ]
  },
  {
   "cell_type": "markdown",
   "metadata": {},
   "source": [
    "### Numbers\n",
    "\n",
    "Like most programming languages, Haskell supports a great variety of number types, depending on the **width, precision, and support for decimal parts**.\n",
    "\n",
    "- **Int** is the bounded integer type. It supports values between at least ±536870911, which corresponds to 2<sup>29</sup>-1 (even though GHC uses a much wider range). Usually, values of the `Int` type have the native width of the architecture, which makes them the fastest.\n",
    "\n",
    "- `Integer` is an unbounded integral type. It can represent any value without a decimal part without underflow or overflow. this property makes it useful for writing code without caring about bounds, but it comes at the price of speed.\n",
    "\n",
    "- the Haskell base library also bundles exact rational numbers using the `Ratio` type. Rational values are created using n % m.\n",
    "\n",
    "- `Float` and `Double` are floating-point types of singles and double precision, respectively.\n",
    "\n",
    "Haskell is strict with the types. To convert between different numeric representations, the functions `fromInteger`, `toInteger`, `fromRational` and `toRational` will help with conversions."
   ]
  },
  {
   "cell_type": "code",
   "execution_count": 4,
   "metadata": {},
   "outputs": [
    {
     "output_type": "display_data",
     "data": {
      "text/html": "<style>/* Styles used for the Hoogle display in the pager */\n.hoogle-doc {\ndisplay: block;\npadding-bottom: 1.3em;\npadding-left: 0.4em;\n}\n.hoogle-code {\ndisplay: block;\nfont-family: monospace;\nwhite-space: pre;\n}\n.hoogle-text {\ndisplay: block;\n}\n.hoogle-name {\ncolor: green;\nfont-weight: bold;\n}\n.hoogle-head {\nfont-weight: bold;\n}\n.hoogle-sub {\ndisplay: block;\nmargin-left: 0.4em;\n}\n.hoogle-package {\nfont-weight: bold;\nfont-style: italic;\n}\n.hoogle-module {\nfont-weight: bold;\n}\n.hoogle-class {\nfont-weight: bold;\n}\n.get-type {\ncolor: green;\nfont-weight: bold;\nfont-family: monospace;\ndisplay: block;\nwhite-space: pre-wrap;\n}\n.show-type {\ncolor: green;\nfont-weight: bold;\nfont-family: monospace;\nmargin-left: 1em;\n}\n.mono {\nfont-family: monospace;\ndisplay: block;\n}\n.err-msg {\ncolor: red;\nfont-style: italic;\nfont-family: monospace;\nwhite-space: pre;\ndisplay: block;\n}\n#unshowable {\ncolor: red;\nfont-weight: bold;\n}\n.err-msg.in.collapse {\npadding-top: 0.7em;\n}\n.highlight-code {\nwhite-space: pre;\nfont-family: monospace;\n}\n.suggestion-warning { \nfont-weight: bold;\ncolor: rgb(200, 130, 0);\n}\n.suggestion-error { \nfont-weight: bold;\ncolor: red;\n}\n.suggestion-name {\nfont-weight: bold;\n}\n</style><span class='get-type'>fromInteger :: forall a. Num a => Integer -> a</span>",
      "text/plain": "fromInteger :: forall a. Num a => Integer -> a"
     },
     "metadata": {}
    },
    {
     "output_type": "display_data",
     "data": {
      "text/html": "<style>/* Styles used for the Hoogle display in the pager */\n.hoogle-doc {\ndisplay: block;\npadding-bottom: 1.3em;\npadding-left: 0.4em;\n}\n.hoogle-code {\ndisplay: block;\nfont-family: monospace;\nwhite-space: pre;\n}\n.hoogle-text {\ndisplay: block;\n}\n.hoogle-name {\ncolor: green;\nfont-weight: bold;\n}\n.hoogle-head {\nfont-weight: bold;\n}\n.hoogle-sub {\ndisplay: block;\nmargin-left: 0.4em;\n}\n.hoogle-package {\nfont-weight: bold;\nfont-style: italic;\n}\n.hoogle-module {\nfont-weight: bold;\n}\n.hoogle-class {\nfont-weight: bold;\n}\n.get-type {\ncolor: green;\nfont-weight: bold;\nfont-family: monospace;\ndisplay: block;\nwhite-space: pre-wrap;\n}\n.show-type {\ncolor: green;\nfont-weight: bold;\nfont-family: monospace;\nmargin-left: 1em;\n}\n.mono {\nfont-family: monospace;\ndisplay: block;\n}\n.err-msg {\ncolor: red;\nfont-style: italic;\nfont-family: monospace;\nwhite-space: pre;\ndisplay: block;\n}\n#unshowable {\ncolor: red;\nfont-weight: bold;\n}\n.err-msg.in.collapse {\npadding-top: 0.7em;\n}\n.highlight-code {\nwhite-space: pre;\nfont-family: monospace;\n}\n.suggestion-warning { \nfont-weight: bold;\ncolor: rgb(200, 130, 0);\n}\n.suggestion-error { \nfont-weight: bold;\ncolor: red;\n}\n.suggestion-name {\nfont-weight: bold;\n}\n</style><span class='get-type'>toInteger :: forall a. Integral a => a -> Integer</span>",
      "text/plain": "toInteger :: forall a. Integral a => a -> Integer"
     },
     "metadata": {}
    },
    {
     "output_type": "display_data",
     "data": {
      "text/html": "<style>/* Styles used for the Hoogle display in the pager */\n.hoogle-doc {\ndisplay: block;\npadding-bottom: 1.3em;\npadding-left: 0.4em;\n}\n.hoogle-code {\ndisplay: block;\nfont-family: monospace;\nwhite-space: pre;\n}\n.hoogle-text {\ndisplay: block;\n}\n.hoogle-name {\ncolor: green;\nfont-weight: bold;\n}\n.hoogle-head {\nfont-weight: bold;\n}\n.hoogle-sub {\ndisplay: block;\nmargin-left: 0.4em;\n}\n.hoogle-package {\nfont-weight: bold;\nfont-style: italic;\n}\n.hoogle-module {\nfont-weight: bold;\n}\n.hoogle-class {\nfont-weight: bold;\n}\n.get-type {\ncolor: green;\nfont-weight: bold;\nfont-family: monospace;\ndisplay: block;\nwhite-space: pre-wrap;\n}\n.show-type {\ncolor: green;\nfont-weight: bold;\nfont-family: monospace;\nmargin-left: 1em;\n}\n.mono {\nfont-family: monospace;\ndisplay: block;\n}\n.err-msg {\ncolor: red;\nfont-style: italic;\nfont-family: monospace;\nwhite-space: pre;\ndisplay: block;\n}\n#unshowable {\ncolor: red;\nfont-weight: bold;\n}\n.err-msg.in.collapse {\npadding-top: 0.7em;\n}\n.highlight-code {\nwhite-space: pre;\nfont-family: monospace;\n}\n.suggestion-warning { \nfont-weight: bold;\ncolor: rgb(200, 130, 0);\n}\n.suggestion-error { \nfont-weight: bold;\ncolor: red;\n}\n.suggestion-name {\nfont-weight: bold;\n}\n</style><span class='get-type'>fromRational :: forall a. Fractional a => Rational -> a</span>",
      "text/plain": "fromRational :: forall a. Fractional a => Rational -> a"
     },
     "metadata": {}
    },
    {
     "output_type": "display_data",
     "data": {
      "text/html": "<style>/* Styles used for the Hoogle display in the pager */\n.hoogle-doc {\ndisplay: block;\npadding-bottom: 1.3em;\npadding-left: 0.4em;\n}\n.hoogle-code {\ndisplay: block;\nfont-family: monospace;\nwhite-space: pre;\n}\n.hoogle-text {\ndisplay: block;\n}\n.hoogle-name {\ncolor: green;\nfont-weight: bold;\n}\n.hoogle-head {\nfont-weight: bold;\n}\n.hoogle-sub {\ndisplay: block;\nmargin-left: 0.4em;\n}\n.hoogle-package {\nfont-weight: bold;\nfont-style: italic;\n}\n.hoogle-module {\nfont-weight: bold;\n}\n.hoogle-class {\nfont-weight: bold;\n}\n.get-type {\ncolor: green;\nfont-weight: bold;\nfont-family: monospace;\ndisplay: block;\nwhite-space: pre-wrap;\n}\n.show-type {\ncolor: green;\nfont-weight: bold;\nfont-family: monospace;\nmargin-left: 1em;\n}\n.mono {\nfont-family: monospace;\ndisplay: block;\n}\n.err-msg {\ncolor: red;\nfont-style: italic;\nfont-family: monospace;\nwhite-space: pre;\ndisplay: block;\n}\n#unshowable {\ncolor: red;\nfont-weight: bold;\n}\n.err-msg.in.collapse {\npadding-top: 0.7em;\n}\n.highlight-code {\nwhite-space: pre;\nfont-family: monospace;\n}\n.suggestion-warning { \nfont-weight: bold;\ncolor: rgb(200, 130, 0);\n}\n.suggestion-error { \nfont-weight: bold;\ncolor: red;\n}\n.suggestion-name {\nfont-weight: bold;\n}\n</style><span class='get-type'>toRational :: forall a. Real a => a -> Rational</span>",
      "text/plain": "toRational :: forall a. Real a => a -> Rational"
     },
     "metadata": {}
    }
   ],
   "source": [
    "import Data.Ratio\n",
    "\n",
    ":t fromInteger\n",
    "\n",
    ":t toInteger\n",
    "\n",
    ":t fromRational\n",
    "\n",
    ":t toRational"
   ]
  },
  {
   "cell_type": "code",
   "execution_count": 5,
   "metadata": {},
   "outputs": [
    {
     "output_type": "display_data",
     "data": {
      "text/plain": "5 % 6"
     },
     "metadata": {}
    },
    {
     "output_type": "display_data",
     "data": {
      "text/plain": "5854679515581645 % 4503599627370496"
     },
     "metadata": {}
    },
    {
     "output_type": "display_data",
     "data": {
      "text/html": "<style>/* Styles used for the Hoogle display in the pager */\n.hoogle-doc {\ndisplay: block;\npadding-bottom: 1.3em;\npadding-left: 0.4em;\n}\n.hoogle-code {\ndisplay: block;\nfont-family: monospace;\nwhite-space: pre;\n}\n.hoogle-text {\ndisplay: block;\n}\n.hoogle-name {\ncolor: green;\nfont-weight: bold;\n}\n.hoogle-head {\nfont-weight: bold;\n}\n.hoogle-sub {\ndisplay: block;\nmargin-left: 0.4em;\n}\n.hoogle-package {\nfont-weight: bold;\nfont-style: italic;\n}\n.hoogle-module {\nfont-weight: bold;\n}\n.hoogle-class {\nfont-weight: bold;\n}\n.get-type {\ncolor: green;\nfont-weight: bold;\nfont-family: monospace;\ndisplay: block;\nwhite-space: pre-wrap;\n}\n.show-type {\ncolor: green;\nfont-weight: bold;\nfont-family: monospace;\nmargin-left: 1em;\n}\n.mono {\nfont-family: monospace;\ndisplay: block;\n}\n.err-msg {\ncolor: red;\nfont-style: italic;\nfont-family: monospace;\nwhite-space: pre;\ndisplay: block;\n}\n#unshowable {\ncolor: red;\nfont-weight: bold;\n}\n.err-msg.in.collapse {\npadding-top: 0.7em;\n}\n.highlight-code {\nwhite-space: pre;\nfont-family: monospace;\n}\n.suggestion-warning { \nfont-weight: bold;\ncolor: rgb(200, 130, 0);\n}\n.suggestion-error { \nfont-weight: bold;\ncolor: red;\n}\n.suggestion-name {\nfont-weight: bold;\n}\n</style><span class='get-type'>value :: forall a. Fractional a => a</span>",
      "text/plain": "value :: forall a. Fractional a => a"
     },
     "metadata": {}
    },
    {
     "output_type": "display_data",
     "data": {
      "text/plain": "5854679515581645 % 4503599627370496"
     },
     "metadata": {}
    }
   ],
   "source": [
    "1 % 2 + 1 % 3\n",
    "\n",
    "toRational 1.3\n",
    "\n",
    "value = fromRational (13 % 10)\n",
    ":t value\n",
    "toRational value"
   ]
  },
  {
   "cell_type": "markdown",
   "metadata": {},
   "source": [
    "### Strings"
   ]
  },
  {
   "cell_type": "code",
   "execution_count": 6,
   "metadata": {},
   "outputs": [
    {
     "output_type": "display_data",
     "data": {
      "text/html": "<style>/* Styles used for the Hoogle display in the pager */\n.hoogle-doc {\ndisplay: block;\npadding-bottom: 1.3em;\npadding-left: 0.4em;\n}\n.hoogle-code {\ndisplay: block;\nfont-family: monospace;\nwhite-space: pre;\n}\n.hoogle-text {\ndisplay: block;\n}\n.hoogle-name {\ncolor: green;\nfont-weight: bold;\n}\n.hoogle-head {\nfont-weight: bold;\n}\n.hoogle-sub {\ndisplay: block;\nmargin-left: 0.4em;\n}\n.hoogle-package {\nfont-weight: bold;\nfont-style: italic;\n}\n.hoogle-module {\nfont-weight: bold;\n}\n.hoogle-class {\nfont-weight: bold;\n}\n.get-type {\ncolor: green;\nfont-weight: bold;\nfont-family: monospace;\ndisplay: block;\nwhite-space: pre-wrap;\n}\n.show-type {\ncolor: green;\nfont-weight: bold;\nfont-family: monospace;\nmargin-left: 1em;\n}\n.mono {\nfont-family: monospace;\ndisplay: block;\n}\n.err-msg {\ncolor: red;\nfont-style: italic;\nfont-family: monospace;\nwhite-space: pre;\ndisplay: block;\n}\n#unshowable {\ncolor: red;\nfont-weight: bold;\n}\n.err-msg.in.collapse {\npadding-top: 0.7em;\n}\n.highlight-code {\nwhite-space: pre;\nfont-family: monospace;\n}\n.suggestion-warning { \nfont-weight: bold;\ncolor: rgb(200, 130, 0);\n}\n.suggestion-error { \nfont-weight: bold;\ncolor: red;\n}\n.suggestion-name {\nfont-weight: bold;\n}\n</style><span class='get-type'>\"Hello world!\" :: [Char]</span>",
      "text/plain": "\"Hello world!\" :: [Char]"
     },
     "metadata": {}
    }
   ],
   "source": [
    ":t \"Hello world!\""
   ]
  },
  {
   "cell_type": "markdown",
   "metadata": {},
   "source": [
    "Instead of some new type, like `String`, the type is a list of characters. The notation `[T]` refers to the type of all lists whose elements are of that type `T`. Lists are the most used data structure in functional programming. The fact that a type like a list depends on other types is known as **parametric polymorphism**."
   ]
  },
  {
   "cell_type": "markdown",
   "metadata": {},
   "source": [
    "### Lists"
   ]
  },
  {
   "cell_type": "code",
   "execution_count": 7,
   "metadata": {},
   "outputs": [
    {
     "output_type": "display_data",
     "data": {
      "text/html": "<style>/* Styles used for the Hoogle display in the pager */\n.hoogle-doc {\ndisplay: block;\npadding-bottom: 1.3em;\npadding-left: 0.4em;\n}\n.hoogle-code {\ndisplay: block;\nfont-family: monospace;\nwhite-space: pre;\n}\n.hoogle-text {\ndisplay: block;\n}\n.hoogle-name {\ncolor: green;\nfont-weight: bold;\n}\n.hoogle-head {\nfont-weight: bold;\n}\n.hoogle-sub {\ndisplay: block;\nmargin-left: 0.4em;\n}\n.hoogle-package {\nfont-weight: bold;\nfont-style: italic;\n}\n.hoogle-module {\nfont-weight: bold;\n}\n.hoogle-class {\nfont-weight: bold;\n}\n.get-type {\ncolor: green;\nfont-weight: bold;\nfont-family: monospace;\ndisplay: block;\nwhite-space: pre-wrap;\n}\n.show-type {\ncolor: green;\nfont-weight: bold;\nfont-family: monospace;\nmargin-left: 1em;\n}\n.mono {\nfont-family: monospace;\ndisplay: block;\n}\n.err-msg {\ncolor: red;\nfont-style: italic;\nfont-family: monospace;\nwhite-space: pre;\ndisplay: block;\n}\n#unshowable {\ncolor: red;\nfont-weight: bold;\n}\n.err-msg.in.collapse {\npadding-top: 0.7em;\n}\n.highlight-code {\nwhite-space: pre;\nfont-family: monospace;\n}\n.suggestion-warning { \nfont-weight: bold;\ncolor: rgb(200, 130, 0);\n}\n.suggestion-error { \nfont-weight: bold;\ncolor: red;\n}\n.suggestion-name {\nfont-weight: bold;\n}\n</style><span class='get-type'>[1, 2, 3] :: forall a. Num a => [a]</span>",
      "text/plain": "[1, 2, 3] :: forall a. Num a => [a]"
     },
     "metadata": {}
    },
    {
     "output_type": "display_data",
     "data": {
      "text/html": "<style>/* Styles used for the Hoogle display in the pager */\n.hoogle-doc {\ndisplay: block;\npadding-bottom: 1.3em;\npadding-left: 0.4em;\n}\n.hoogle-code {\ndisplay: block;\nfont-family: monospace;\nwhite-space: pre;\n}\n.hoogle-text {\ndisplay: block;\n}\n.hoogle-name {\ncolor: green;\nfont-weight: bold;\n}\n.hoogle-head {\nfont-weight: bold;\n}\n.hoogle-sub {\ndisplay: block;\nmargin-left: 0.4em;\n}\n.hoogle-package {\nfont-weight: bold;\nfont-style: italic;\n}\n.hoogle-module {\nfont-weight: bold;\n}\n.hoogle-class {\nfont-weight: bold;\n}\n.get-type {\ncolor: green;\nfont-weight: bold;\nfont-family: monospace;\ndisplay: block;\nwhite-space: pre-wrap;\n}\n.show-type {\ncolor: green;\nfont-weight: bold;\nfont-family: monospace;\nmargin-left: 1em;\n}\n.mono {\nfont-family: monospace;\ndisplay: block;\n}\n.err-msg {\ncolor: red;\nfont-style: italic;\nfont-family: monospace;\nwhite-space: pre;\ndisplay: block;\n}\n#unshowable {\ncolor: red;\nfont-weight: bold;\n}\n.err-msg.in.collapse {\npadding-top: 0.7em;\n}\n.highlight-code {\nwhite-space: pre;\nfont-family: monospace;\n}\n.suggestion-warning { \nfont-weight: bold;\ncolor: rgb(200, 130, 0);\n}\n.suggestion-error { \nfont-weight: bold;\ncolor: red;\n}\n.suggestion-name {\nfont-weight: bold;\n}\n</style><span class='get-type'>reverse :: forall a. [a] -> [a]</span>",
      "text/plain": "reverse :: forall a. [a] -> [a]"
     },
     "metadata": {}
    },
    {
     "output_type": "display_data",
     "data": {
      "text/html": "<style>/* Styles used for the Hoogle display in the pager */\n.hoogle-doc {\ndisplay: block;\npadding-bottom: 1.3em;\npadding-left: 0.4em;\n}\n.hoogle-code {\ndisplay: block;\nfont-family: monospace;\nwhite-space: pre;\n}\n.hoogle-text {\ndisplay: block;\n}\n.hoogle-name {\ncolor: green;\nfont-weight: bold;\n}\n.hoogle-head {\nfont-weight: bold;\n}\n.hoogle-sub {\ndisplay: block;\nmargin-left: 0.4em;\n}\n.hoogle-package {\nfont-weight: bold;\nfont-style: italic;\n}\n.hoogle-module {\nfont-weight: bold;\n}\n.hoogle-class {\nfont-weight: bold;\n}\n.get-type {\ncolor: green;\nfont-weight: bold;\nfont-family: monospace;\ndisplay: block;\nwhite-space: pre-wrap;\n}\n.show-type {\ncolor: green;\nfont-weight: bold;\nfont-family: monospace;\nmargin-left: 1em;\n}\n.mono {\nfont-family: monospace;\ndisplay: block;\n}\n.err-msg {\ncolor: red;\nfont-style: italic;\nfont-family: monospace;\nwhite-space: pre;\ndisplay: block;\n}\n#unshowable {\ncolor: red;\nfont-weight: bold;\n}\n.err-msg.in.collapse {\npadding-top: 0.7em;\n}\n.highlight-code {\nwhite-space: pre;\nfont-family: monospace;\n}\n.suggestion-warning { \nfont-weight: bold;\ncolor: rgb(200, 130, 0);\n}\n.suggestion-error { \nfont-weight: bold;\ncolor: red;\n}\n.suggestion-name {\nfont-weight: bold;\n}\n</style><span class='get-type'>(++) :: forall a. [a] -> [a] -> [a]</span>",
      "text/plain": "(++) :: forall a. [a] -> [a] -> [a]"
     },
     "metadata": {}
    },
    {
     "output_type": "display_data",
     "data": {
      "text/plain": "[3,2,1]"
     },
     "metadata": {}
    },
    {
     "output_type": "display_data",
     "data": {
      "text/plain": "\"cba\""
     },
     "metadata": {}
    },
    {
     "output_type": "display_data",
     "data": {
      "text/plain": "[1,2,3,4,5,6]"
     },
     "metadata": {}
    }
   ],
   "source": [
    ":t [1, 2, 3]\n",
    "\n",
    ":t reverse\n",
    "\n",
    ":t (++)\n",
    "\n",
    "reverse [1, 2, 3]\n",
    "\n",
    "reverse \"abc\"\n",
    "\n",
    "[1, 2, 3] ++ [4, 5, 6]"
   ]
  },
  {
   "cell_type": "markdown",
   "metadata": {},
   "source": [
    "These functions show in its type variable. It is a variable because it can be replaced by any type because regular variables can take different values. Type variables must be written in code starting with lowercase letters, and they consist usually of one or two letters.\n",
    "\n",
    "**Note** Functions whose names are built entirely by symbol, like `++`, must be called using the so-called infix syntax. That is, they should be written between the arguments instead of in front of them. In the case where you want to use the function in the normal fashion, you must use parentheses around its name. "
   ]
  },
  {
   "cell_type": "code",
   "execution_count": 8,
   "metadata": {},
   "outputs": [
    {
     "output_type": "display_data",
     "data": {
      "text/plain": "[1,2,3,4,5,6]"
     },
     "metadata": {}
    }
   ],
   "source": [
    "(++) [1, 2, 3] [4, 5, 6]"
   ]
  },
  {
   "cell_type": "markdown",
   "metadata": {},
   "source": [
    "List in Haskell are **homogeneous**: each list can handle elements of only a single type."
   ]
  },
  {
   "cell_type": "code",
   "execution_count": 9,
   "metadata": {},
   "outputs": [
    {
     "output_type": "error",
     "ename": "",
     "evalue": "",
     "traceback": [
      "<interactive>:1:2: error:\n    • No instance for (Num Char) arising from the literal ‘1’\n    • In the expression: 1\n      In the expression: [1, 2, 3, 'a', ....]\n      In an equation for ‘it’: it = [1, 2, 3, ....]"
     ]
    }
   ],
   "source": [
    "[1, 2, 3, 'a', 'b', 'c']"
   ]
  },
  {
   "cell_type": "code",
   "execution_count": 10,
   "metadata": {},
   "outputs": [
    {
     "output_type": "error",
     "ename": "",
     "evalue": "",
     "traceback": [
      "<interactive>:1:11: error:\n    • No instance for (Num Char) arising from the literal ‘1’\n    • In the expression: 1\n      In the second argument of ‘(++)’, namely ‘[1, 2, 3]’\n      In the expression: \"abc\" ++ [1, 2, 3]"
     ]
    }
   ],
   "source": [
    "\"abc\" ++ [1, 2, 3]"
   ]
  },
  {
   "cell_type": "markdown",
   "metadata": {},
   "source": [
    "Like in most functional languages, lists in Haskell are linked lists. Such lists are composed of a series of cells that hold the values in a list and a reference to the next cell and a special marker for the end of the list. The basic operations to construct lists are `[]` (pronounced \"nil\") to create an empty list and `:` (pronounced \"cons\") to append an element to an already existing list. That is, `elt:lst` is the list resulting from putting the value `elt` in front of the list `lst`. So, list literals can also be written as follows:"
   ]
  },
  {
   "cell_type": "code",
   "execution_count": 11,
   "metadata": {},
   "outputs": [
    {
     "output_type": "display_data",
     "data": {
      "text/html": "<style>/* Styles used for the Hoogle display in the pager */\n.hoogle-doc {\ndisplay: block;\npadding-bottom: 1.3em;\npadding-left: 0.4em;\n}\n.hoogle-code {\ndisplay: block;\nfont-family: monospace;\nwhite-space: pre;\n}\n.hoogle-text {\ndisplay: block;\n}\n.hoogle-name {\ncolor: green;\nfont-weight: bold;\n}\n.hoogle-head {\nfont-weight: bold;\n}\n.hoogle-sub {\ndisplay: block;\nmargin-left: 0.4em;\n}\n.hoogle-package {\nfont-weight: bold;\nfont-style: italic;\n}\n.hoogle-module {\nfont-weight: bold;\n}\n.hoogle-class {\nfont-weight: bold;\n}\n.get-type {\ncolor: green;\nfont-weight: bold;\nfont-family: monospace;\ndisplay: block;\nwhite-space: pre-wrap;\n}\n.show-type {\ncolor: green;\nfont-weight: bold;\nfont-family: monospace;\nmargin-left: 1em;\n}\n.mono {\nfont-family: monospace;\ndisplay: block;\n}\n.err-msg {\ncolor: red;\nfont-style: italic;\nfont-family: monospace;\nwhite-space: pre;\ndisplay: block;\n}\n#unshowable {\ncolor: red;\nfont-weight: bold;\n}\n.err-msg.in.collapse {\npadding-top: 0.7em;\n}\n.highlight-code {\nwhite-space: pre;\nfont-family: monospace;\n}\n.suggestion-warning { \nfont-weight: bold;\ncolor: rgb(200, 130, 0);\n}\n.suggestion-error { \nfont-weight: bold;\ncolor: red;\n}\n.suggestion-name {\nfont-weight: bold;\n}\n</style><div class=\"suggestion-name\" style=\"clear:both;\">Use list literal</div><div class=\"suggestion-row\" style=\"float: left;\"><div class=\"suggestion-warning\">Found:</div><div class=\"highlight-code\" id=\"haskell\">1 : 2 : 3 : []</div></div><div class=\"suggestion-row\" style=\"float: left;\"><div class=\"suggestion-warning\">Why Not:</div><div class=\"highlight-code\" id=\"haskell\">[1, 2, 3]</div></div><div class=\"suggestion-name\" style=\"clear:both;\">Use list literal</div><div class=\"suggestion-row\" style=\"float: left;\"><div class=\"suggestion-warning\">Found:</div><div class=\"highlight-code\" id=\"haskell\">'a' : 'b' : 'c' : []</div></div><div class=\"suggestion-row\" style=\"float: left;\"><div class=\"suggestion-warning\">Why Not:</div><div class=\"highlight-code\" id=\"haskell\">['a', 'b', 'c']</div></div>",
      "text/plain": "Line 1: Use list literal\nFound:\n1 : 2 : 3 : []\nWhy not:\n[1, 2, 3]Line 3: Use list literal\nFound:\n'a' : 'b' : 'c' : []\nWhy not:\n['a', 'b', 'c']"
     },
     "metadata": {}
    },
    {
     "output_type": "display_data",
     "data": {
      "text/plain": "[1,2,3]"
     },
     "metadata": {}
    },
    {
     "output_type": "display_data",
     "data": {
      "text/plain": "\"abc\""
     },
     "metadata": {}
    }
   ],
   "source": [
    "1 : 2 : 3 : []\n",
    "\n",
    "'a' : 'b' : 'c' : []"
   ]
  },
  {
   "cell_type": "code",
   "execution_count": 12,
   "metadata": {},
   "outputs": [
    {
     "output_type": "display_data",
     "data": {
      "text/html": "<style>/* Styles used for the Hoogle display in the pager */\n.hoogle-doc {\ndisplay: block;\npadding-bottom: 1.3em;\npadding-left: 0.4em;\n}\n.hoogle-code {\ndisplay: block;\nfont-family: monospace;\nwhite-space: pre;\n}\n.hoogle-text {\ndisplay: block;\n}\n.hoogle-name {\ncolor: green;\nfont-weight: bold;\n}\n.hoogle-head {\nfont-weight: bold;\n}\n.hoogle-sub {\ndisplay: block;\nmargin-left: 0.4em;\n}\n.hoogle-package {\nfont-weight: bold;\nfont-style: italic;\n}\n.hoogle-module {\nfont-weight: bold;\n}\n.hoogle-class {\nfont-weight: bold;\n}\n.get-type {\ncolor: green;\nfont-weight: bold;\nfont-family: monospace;\ndisplay: block;\nwhite-space: pre-wrap;\n}\n.show-type {\ncolor: green;\nfont-weight: bold;\nfont-family: monospace;\nmargin-left: 1em;\n}\n.mono {\nfont-family: monospace;\ndisplay: block;\n}\n.err-msg {\ncolor: red;\nfont-style: italic;\nfont-family: monospace;\nwhite-space: pre;\ndisplay: block;\n}\n#unshowable {\ncolor: red;\nfont-weight: bold;\n}\n.err-msg.in.collapse {\npadding-top: 0.7em;\n}\n.highlight-code {\nwhite-space: pre;\nfont-family: monospace;\n}\n.suggestion-warning { \nfont-weight: bold;\ncolor: rgb(200, 130, 0);\n}\n.suggestion-error { \nfont-weight: bold;\ncolor: red;\n}\n.suggestion-name {\nfont-weight: bold;\n}\n</style><div class=\"suggestion-name\" style=\"clear:both;\">Evaluate</div><div class=\"suggestion-row\" style=\"float: left;\"><div class=\"suggestion-warning\">Found:</div><div class=\"highlight-code\" id=\"haskell\">null []</div></div><div class=\"suggestion-row\" style=\"float: left;\"><div class=\"suggestion-warning\">Why Not:</div><div class=\"highlight-code\" id=\"haskell\">True</div></div>",
      "text/plain": "Line 3: Evaluate\nFound:\nnull []\nWhy not:\nTrue"
     },
     "metadata": {}
    },
    {
     "output_type": "display_data",
     "data": {
      "text/plain": "False"
     },
     "metadata": {}
    },
    {
     "output_type": "display_data",
     "data": {
      "text/plain": "True"
     },
     "metadata": {}
    },
    {
     "output_type": "display_data",
     "data": {
      "text/plain": "1"
     },
     "metadata": {}
    },
    {
     "output_type": "display_data",
     "data": {
      "text/plain": "[2,3]"
     },
     "metadata": {}
    },
    {
     "output_type": "error",
     "ename": "",
     "evalue": "",
     "traceback": [
      "Prelude.head: empty list"
     ]
    }
   ],
   "source": [
    "null [1, 2, 3]\n",
    "\n",
    "null []\n",
    "\n",
    "head [1, 2, 3]\n",
    "\n",
    "tail [1, 2, 3]\n",
    "\n",
    "head []"
   ]
  },
  {
   "cell_type": "markdown",
   "metadata": {},
   "source": [
    "### Boolean\n",
    "\n",
    "`True` and `False` are the only two elements of the `Bool` type, which represent Boolean values. Several standard functions for combining these two values (and (&&), or (||) and not) are provided in the `Prelude`. \n",
    "\n",
    "- Long-circuiting (& and |): always evaluate both sides of the expression.\n",
    "- Short-circuiting (&& and ||): may stop after evaluating only one side.\n",
    "\n",
    "In Haskell, because of it's lazy evaluation model, these operators always perform their job in the short-circuiting manner. Apart from that, there exist `and` and `or` functions that take a list of Booleans and perform the operations."
   ]
  },
  {
   "cell_type": "code",
   "execution_count": 13,
   "metadata": {},
   "outputs": [
    {
     "output_type": "display_data",
     "data": {
      "text/html": "<style>/* Styles used for the Hoogle display in the pager */\n.hoogle-doc {\ndisplay: block;\npadding-bottom: 1.3em;\npadding-left: 0.4em;\n}\n.hoogle-code {\ndisplay: block;\nfont-family: monospace;\nwhite-space: pre;\n}\n.hoogle-text {\ndisplay: block;\n}\n.hoogle-name {\ncolor: green;\nfont-weight: bold;\n}\n.hoogle-head {\nfont-weight: bold;\n}\n.hoogle-sub {\ndisplay: block;\nmargin-left: 0.4em;\n}\n.hoogle-package {\nfont-weight: bold;\nfont-style: italic;\n}\n.hoogle-module {\nfont-weight: bold;\n}\n.hoogle-class {\nfont-weight: bold;\n}\n.get-type {\ncolor: green;\nfont-weight: bold;\nfont-family: monospace;\ndisplay: block;\nwhite-space: pre-wrap;\n}\n.show-type {\ncolor: green;\nfont-weight: bold;\nfont-family: monospace;\nmargin-left: 1em;\n}\n.mono {\nfont-family: monospace;\ndisplay: block;\n}\n.err-msg {\ncolor: red;\nfont-style: italic;\nfont-family: monospace;\nwhite-space: pre;\ndisplay: block;\n}\n#unshowable {\ncolor: red;\nfont-weight: bold;\n}\n.err-msg.in.collapse {\npadding-top: 0.7em;\n}\n.highlight-code {\nwhite-space: pre;\nfont-family: monospace;\n}\n.suggestion-warning { \nfont-weight: bold;\ncolor: rgb(200, 130, 0);\n}\n.suggestion-error { \nfont-weight: bold;\ncolor: red;\n}\n.suggestion-name {\nfont-weight: bold;\n}\n</style><div class=\"suggestion-name\" style=\"clear:both;\">Evaluate</div><div class=\"suggestion-row\" style=\"float: left;\"><div class=\"suggestion-warning\">Found:</div><div class=\"highlight-code\" id=\"haskell\">True && False</div></div><div class=\"suggestion-row\" style=\"float: left;\"><div class=\"suggestion-warning\">Why Not:</div><div class=\"highlight-code\" id=\"haskell\">False</div></div><div class=\"suggestion-name\" style=\"clear:both;\">Evaluate</div><div class=\"suggestion-row\" style=\"float: left;\"><div class=\"suggestion-warning\">Found:</div><div class=\"highlight-code\" id=\"haskell\">False && not False</div></div><div class=\"suggestion-row\" style=\"float: left;\"><div class=\"suggestion-warning\">Why Not:</div><div class=\"highlight-code\" id=\"haskell\">False</div></div><div class=\"suggestion-name\" style=\"clear:both;\">Evaluate</div><div class=\"suggestion-row\" style=\"float: left;\"><div class=\"suggestion-warning\">Found:</div><div class=\"highlight-code\" id=\"haskell\">not False</div></div><div class=\"suggestion-row\" style=\"float: left;\"><div class=\"suggestion-warning\">Why Not:</div><div class=\"highlight-code\" id=\"haskell\">True</div></div><div class=\"suggestion-name\" style=\"clear:both;\">Use ||</div><div class=\"suggestion-row\" style=\"float: left;\"><div class=\"suggestion-warning\">Found:</div><div class=\"highlight-code\" id=\"haskell\">or [True, False, and [False, True, True]]</div></div><div class=\"suggestion-row\" style=\"float: left;\"><div class=\"suggestion-warning\">Why Not:</div><div class=\"highlight-code\" id=\"haskell\">True || False || and [False, True, True]</div></div><div class=\"suggestion-name\" style=\"clear:both;\">Use &&</div><div class=\"suggestion-row\" style=\"float: left;\"><div class=\"suggestion-warning\">Found:</div><div class=\"highlight-code\" id=\"haskell\">and [False, True, True]</div></div><div class=\"suggestion-row\" style=\"float: left;\"><div class=\"suggestion-warning\">Why Not:</div><div class=\"highlight-code\" id=\"haskell\">False && True && True</div></div>",
      "text/plain": "Line 1: Evaluate\nFound:\nTrue && False\nWhy not:\nFalseLine 1: Evaluate\nFound:\nFalse && not False\nWhy not:\nFalseLine 1: Evaluate\nFound:\nnot False\nWhy not:\nTrueLine 3: Use ||\nFound:\nor [True, False, and [False, True, True]]\nWhy not:\nTrue || False || and [False, True, True]Line 3: Use &&\nFound:\nand [False, True, True]\nWhy not:\nFalse && True && True"
     },
     "metadata": {}
    },
    {
     "output_type": "display_data",
     "data": {
      "text/plain": "False"
     },
     "metadata": {}
    },
    {
     "output_type": "display_data",
     "data": {
      "text/plain": "True"
     },
     "metadata": {}
    },
    {
     "output_type": "display_data",
     "data": {
      "text/plain": "True"
     },
     "metadata": {}
    }
   ],
   "source": [
    "(True && False) || (False && not False)\n",
    "\n",
    "or [True, False, and [False, True, True]]\n",
    "\n",
    "(2 == 2.1) || (2 < 2.1) || (2 > 2.1)"
   ]
  },
  {
   "cell_type": "code",
   "execution_count": 14,
   "metadata": {},
   "outputs": [
    {
     "output_type": "display_data",
     "data": {
      "text/plain": "True"
     },
     "metadata": {}
    }
   ],
   "source": [
    "(4.000000000000000003 - 4) == 0"
   ]
  },
  {
   "cell_type": "markdown",
   "metadata": {},
   "source": [
    "Along with these functions, another important construction related to Booleans is if-then-else. An expression with the form `if b then t else f` evaluates to t if the value of b is `True`, and it evaluates to f otherwise.\n",
    "\n",
    "This structure looks similar to the one found in imperative languages but has these important differences:\n",
    "- Both `then` and `else` branches must be present along with the `if`. If this were not the case, then the expression wouldn't be evaluable for some of the values of b. Other languages opt to return a default value for the nonexistent else, but Haskell makes no commitment.\n",
    "- The entire expression must have a defined type. The way Haskell manages to ensure that is by forcing both `t` and `f` expressions to have the same type. Thus, an expression such as `if True then 1 else \"hello\"` won't be accepted by either the compiler or the interpreter.\n",
    "\n",
    "To make real use of if expressions, you need functions that return type `Bool`. this includes the comparison functions between numbers: `==`(equality), `/=` (inequality, caution: not `!=`), `>=` (greater than or equal to), `>` (greater than), `<=` (less than or equal to), and `<` (less than)."
   ]
  },
  {
   "cell_type": "code",
   "execution_count": 15,
   "metadata": {},
   "outputs": [
    {
     "output_type": "display_data",
     "data": {
      "text/plain": "\"3 is less than 4.5\""
     },
     "metadata": {}
    }
   ],
   "source": [
    "if 3 < 4.5 then \"3 is less than 4.5\" else \"3 is not less than 4.5\""
   ]
  },
  {
   "cell_type": "code",
   "execution_count": 16,
   "metadata": {},
   "outputs": [
    {
     "output_type": "display_data",
     "data": {
      "text/plain": "\"hello\""
     },
     "metadata": {}
    },
    {
     "output_type": "display_data",
     "data": {
      "text/plain": "\"empty\""
     },
     "metadata": {}
    }
   ],
   "source": [
    "xs = [\"hello\", \"hola\"]\n",
    "if not (null xs) then head xs else \"empty\"\n",
    "\n",
    "xs = []\n",
    "if not (null xs) then head xs else \"empty\"\n"
   ]
  },
  {
   "cell_type": "code",
   "execution_count": 23,
   "metadata": {},
   "outputs": [
    {
     "output_type": "display_data",
     "data": {
      "text/html": "<style>/* Styles used for the Hoogle display in the pager */\n.hoogle-doc {\ndisplay: block;\npadding-bottom: 1.3em;\npadding-left: 0.4em;\n}\n.hoogle-code {\ndisplay: block;\nfont-family: monospace;\nwhite-space: pre;\n}\n.hoogle-text {\ndisplay: block;\n}\n.hoogle-name {\ncolor: green;\nfont-weight: bold;\n}\n.hoogle-head {\nfont-weight: bold;\n}\n.hoogle-sub {\ndisplay: block;\nmargin-left: 0.4em;\n}\n.hoogle-package {\nfont-weight: bold;\nfont-style: italic;\n}\n.hoogle-module {\nfont-weight: bold;\n}\n.hoogle-class {\nfont-weight: bold;\n}\n.get-type {\ncolor: green;\nfont-weight: bold;\nfont-family: monospace;\ndisplay: block;\nwhite-space: pre-wrap;\n}\n.show-type {\ncolor: green;\nfont-weight: bold;\nfont-family: monospace;\nmargin-left: 1em;\n}\n.mono {\nfont-family: monospace;\ndisplay: block;\n}\n.err-msg {\ncolor: red;\nfont-style: italic;\nfont-family: monospace;\nwhite-space: pre;\ndisplay: block;\n}\n#unshowable {\ncolor: red;\nfont-weight: bold;\n}\n.err-msg.in.collapse {\npadding-top: 0.7em;\n}\n.highlight-code {\nwhite-space: pre;\nfont-family: monospace;\n}\n.suggestion-warning { \nfont-weight: bold;\ncolor: rgb(200, 130, 0);\n}\n.suggestion-error { \nfont-weight: bold;\ncolor: red;\n}\n.suggestion-name {\nfont-weight: bold;\n}\n</style><span class='get-type'>[['a', 'b', 'c'], ['d', 'e']] :: [[Char]]</span>",
      "text/plain": "[['a', 'b', 'c'], ['d', 'e']] :: [[Char]]"
     },
     "metadata": {}
    },
    {
     "output_type": "display_data",
     "data": {
      "text/plain": "\"abc\""
     },
     "metadata": {}
    },
    {
     "output_type": "display_data",
     "data": {
      "text/plain": "'a'"
     },
     "metadata": {}
    },
    {
     "output_type": "display_data",
     "data": {
      "text/plain": "[]"
     },
     "metadata": {}
    }
   ],
   "source": [
    ":t [['a', 'b', 'c'], ['d', 'e']]\n",
    "\n",
    "head [['a','b','c'],['d','e']]\n",
    "\n",
    "head (head [['a','b','c'],['d','e']])\n",
    "\n",
    "head [[]]"
   ]
  },
  {
   "cell_type": "markdown",
   "metadata": {},
   "source": [
    "## Defining Simple Functions\n",
    "\n",
    "Function declaration include the following:\n",
    "- A **name**, which in Haskell always starts with a *lowercase* letter\n",
    "- The list of parameters, each of which must also begin with a *lowercase* letter, seperated from the rest by spaces (not by commas, like in most languages) and not surrounded by parentheses\n",
    "- An `=` sign and the body of the function"
   ]
  },
  {
   "cell_type": "code",
   "execution_count": 7,
   "metadata": {},
   "outputs": [],
   "source": [
    "firstOrEmpty :: [[Char]] -> [Char]\n",
    "firstOrEmpty xs = if not (null xs) then head xs else \"empty\"\n"
   ]
  },
  {
   "cell_type": "code",
   "execution_count": 8,
   "metadata": {},
   "outputs": [
    {
     "output_type": "display_data",
     "data": {
      "text/plain": "\"empty\""
     },
     "metadata": {}
    },
    {
     "output_type": "display_data",
     "data": {
      "text/plain": "\"hello\""
     },
     "metadata": {}
    }
   ],
   "source": [
    "firstOrEmpty []\n",
    "\n",
    "firstOrEmpty [\"hello\", \"hola\"]"
   ]
  },
  {
   "cell_type": "code",
   "execution_count": 105,
   "metadata": {},
   "outputs": [
    {
     "data": {
      "text/plain": [
       "[1,2,3,4,5,6]"
      ]
     },
     "metadata": {},
     "output_type": "display_data"
    }
   ],
   "source": [
    "xs +++ ys = if null xs {- check emptyness -}\n",
    "            then ys -- base case\n",
    "            else head xs : (tail xs +++ ys)\n",
    "                \n",
    "[1, 2, 3] +++ [4, 5, 6]"
   ]
  },
  {
   "cell_type": "code",
   "execution_count": 110,
   "metadata": {},
   "outputs": [
    {
     "data": {
      "text/plain": [
       "\"!dlrow olleh\""
      ]
     },
     "metadata": {},
     "output_type": "display_data"
    }
   ],
   "source": [
    "reverse2 xs = if null xs\n",
    "            then []\n",
    "            else reverse2 (tail xs) +++ [head xs]\n",
    "            \n",
    "reverse2 \"hello world!\""
   ]
  },
  {
   "cell_type": "markdown",
   "metadata": {},
   "source": [
    "### Returning More Than One Value (Tuple)\n",
    "\n",
    "**Warning** Tuple types of different lengths are completely different types. (a,b,c) != (a, b)"
   ]
  },
  {
   "cell_type": "code",
   "execution_count": 112,
   "metadata": {},
   "outputs": [
    {
     "data": {
      "text/html": [
       "<style>/* Styles used for the Hoogle display in the pager */\n",
       ".hoogle-doc {\n",
       "display: block;\n",
       "padding-bottom: 1.3em;\n",
       "padding-left: 0.4em;\n",
       "}\n",
       ".hoogle-code {\n",
       "display: block;\n",
       "font-family: monospace;\n",
       "white-space: pre;\n",
       "}\n",
       ".hoogle-text {\n",
       "display: block;\n",
       "}\n",
       ".hoogle-name {\n",
       "color: green;\n",
       "font-weight: bold;\n",
       "}\n",
       ".hoogle-head {\n",
       "font-weight: bold;\n",
       "}\n",
       ".hoogle-sub {\n",
       "display: block;\n",
       "margin-left: 0.4em;\n",
       "}\n",
       ".hoogle-package {\n",
       "font-weight: bold;\n",
       "font-style: italic;\n",
       "}\n",
       ".hoogle-module {\n",
       "font-weight: bold;\n",
       "}\n",
       ".hoogle-class {\n",
       "font-weight: bold;\n",
       "}\n",
       ".get-type {\n",
       "color: green;\n",
       "font-weight: bold;\n",
       "font-family: monospace;\n",
       "display: block;\n",
       "white-space: pre-wrap;\n",
       "}\n",
       ".show-type {\n",
       "color: green;\n",
       "font-weight: bold;\n",
       "font-family: monospace;\n",
       "margin-left: 1em;\n",
       "}\n",
       ".mono {\n",
       "font-family: monospace;\n",
       "display: block;\n",
       "}\n",
       ".err-msg {\n",
       "color: red;\n",
       "font-style: italic;\n",
       "font-family: monospace;\n",
       "white-space: pre;\n",
       "display: block;\n",
       "}\n",
       "#unshowable {\n",
       "color: red;\n",
       "font-weight: bold;\n",
       "}\n",
       ".err-msg.in.collapse {\n",
       "padding-top: 0.7em;\n",
       "}\n",
       ".highlight-code {\n",
       "white-space: pre;\n",
       "font-family: monospace;\n",
       "}\n",
       ".suggestion-warning { \n",
       "font-weight: bold;\n",
       "color: rgb(200, 130, 0);\n",
       "}\n",
       ".suggestion-error { \n",
       "font-weight: bold;\n",
       "color: red;\n",
       "}\n",
       ".suggestion-name {\n",
       "font-weight: bold;\n",
       "}\n",
       "</style><span class='get-type'>(\"hello\", True, if 2 > 3 then 'a' else 'b') :: ([Char], Bool, Char)</span>"
      ],
      "text/plain": [
       "(\"hello\", True, if 2 > 3 then 'a' else 'b') :: ([Char], Bool, Char)"
      ]
     },
     "metadata": {},
     "output_type": "display_data"
    }
   ],
   "source": [
    ":t (\"hello\", True, if 2 > 3 then 'a' else 'b')"
   ]
  },
  {
   "cell_type": "code",
   "execution_count": 117,
   "metadata": {},
   "outputs": [
    {
     "data": {
      "text/plain": [
       "(6,1)"
      ]
     },
     "metadata": {},
     "output_type": "display_data"
    }
   ],
   "source": [
    "maxmin xs = if null (tail xs)\n",
    "            then (head xs, head xs)\n",
    "            else (\n",
    "                if head xs > fst (maxmin (tail xs))\n",
    "                then head xs\n",
    "                else fst (maxmin (tail xs)),\n",
    "                if head xs < snd(maxmin (tail xs))\n",
    "                then head xs\n",
    "                else snd (maxmin (tail xs))\n",
    "            )\n",
    "            \n",
    "maxmin [1, 2, 3, 4, 5, 6]"
   ]
  },
  {
   "cell_type": "markdown",
   "metadata": {},
   "source": [
    "Can use *local binding* to make the function more performant and easy to understand. There are two kinds of binding contstructs in Haskell: `let` and `where`. In both cases, a binding is introduced by name = expression. The difference lies in the position over the main expression: `let` introduces bindings before the main expression and must end with the `in` keyword. On the other hand, where does so after the expression. The following code rewrites the previous code by using local bindings to refer to the head of the list and the return values of the recursive case:"
   ]
  },
  {
   "cell_type": "code",
   "execution_count": 119,
   "metadata": {},
   "outputs": [
    {
     "data": {
      "text/plain": [
       "(6,1)"
      ]
     },
     "metadata": {},
     "output_type": "display_data"
    }
   ],
   "source": [
    "maxmin xs = let h = head xs\n",
    "            in if null (tail xs)\n",
    "                then (h, h)\n",
    "                else (\n",
    "                    if h > t_max then h else t_max,\n",
    "                    if h < t_min then h else t_min\n",
    "                ) where t = maxmin (tail xs)\n",
    "                        t_max = fst t\n",
    "                        t_min = snd t\n",
    "                        \n",
    "maxmin [1, 2, 3, 4, 5, 6]"
   ]
  },
  {
   "cell_type": "markdown",
   "metadata": {},
   "source": [
    "Haskell uses a different solution, called *layout*. In a layout-based syntax, how a line is indented isn't as important as the fact that all elements in the same block start in the same column. Here's an example:\n",
    "\n",
    "- In an `if` block, the lines for `then` and `else` must be indented the same way.\n",
    "- In a `let` or a `where` block, all local bindings must start in the same position."
   ]
  },
  {
   "source": [
    "### Working with Data Types\n",
    "\n",
    "The most basic kind of data type that you can create in Haskell is called an *algebraic data type (ADT)*. An ADT is defined by two pieces of data.\n",
    "- A name for the type that will be used to represent its values.\n",
    "- A set of constructors that will be used to create new values. These constructors may have arguments that hold values of the specified types.\n",
    "\n",
    "In Haskell, different constructors are used to represent completely different alternatives to construct values."
   ],
   "cell_type": "markdown",
   "metadata": {}
  },
  {
   "source": [
    "#### Example\n",
    "\n",
    "There are three kinds of clients, listed here:\n",
    "* Government organizations, which are known by their name.\n",
    "* Companies, for which you need to record a name, an identification number, a contact person, and that person's position within the company hierarchy\n",
    "* Individual clients, known by their name, surname, and whether they want to receive further information about offers and discounts\n",
    "\n",
    "The way to represent these three client types in Haskell is as follows:"
   ],
   "cell_type": "markdown",
   "metadata": {}
  },
  {
   "cell_type": "code",
   "execution_count": 9,
   "metadata": {},
   "outputs": [],
   "source": [
    "data Client = GovOrg String\n",
    "            | Company String Integer String String\n",
    "            | Individual String String Bool\n",
    "            deriving Show\n",
    "        "
   ]
  },
  {
   "cell_type": "code",
   "execution_count": 10,
   "metadata": {},
   "outputs": [
    {
     "output_type": "display_data",
     "data": {
      "text/html": "<style>/* Styles used for the Hoogle display in the pager */\n.hoogle-doc {\ndisplay: block;\npadding-bottom: 1.3em;\npadding-left: 0.4em;\n}\n.hoogle-code {\ndisplay: block;\nfont-family: monospace;\nwhite-space: pre;\n}\n.hoogle-text {\ndisplay: block;\n}\n.hoogle-name {\ncolor: green;\nfont-weight: bold;\n}\n.hoogle-head {\nfont-weight: bold;\n}\n.hoogle-sub {\ndisplay: block;\nmargin-left: 0.4em;\n}\n.hoogle-package {\nfont-weight: bold;\nfont-style: italic;\n}\n.hoogle-module {\nfont-weight: bold;\n}\n.hoogle-class {\nfont-weight: bold;\n}\n.get-type {\ncolor: green;\nfont-weight: bold;\nfont-family: monospace;\ndisplay: block;\nwhite-space: pre-wrap;\n}\n.show-type {\ncolor: green;\nfont-weight: bold;\nfont-family: monospace;\nmargin-left: 1em;\n}\n.mono {\nfont-family: monospace;\ndisplay: block;\n}\n.err-msg {\ncolor: red;\nfont-style: italic;\nfont-family: monospace;\nwhite-space: pre;\ndisplay: block;\n}\n#unshowable {\ncolor: red;\nfont-weight: bold;\n}\n.err-msg.in.collapse {\npadding-top: 0.7em;\n}\n.highlight-code {\nwhite-space: pre;\nfont-family: monospace;\n}\n.suggestion-warning { \nfont-weight: bold;\ncolor: rgb(200, 130, 0);\n}\n.suggestion-error { \nfont-weight: bold;\ncolor: red;\n}\n.suggestion-name {\nfont-weight: bold;\n}\n</style><span class='get-type'>GovOrg \"Nasa\" :: Client</span>",
      "text/plain": "GovOrg \"Nasa\" :: Client"
     },
     "metadata": {}
    },
    {
     "output_type": "display_data",
     "data": {
      "text/html": "<style>/* Styles used for the Hoogle display in the pager */\n.hoogle-doc {\ndisplay: block;\npadding-bottom: 1.3em;\npadding-left: 0.4em;\n}\n.hoogle-code {\ndisplay: block;\nfont-family: monospace;\nwhite-space: pre;\n}\n.hoogle-text {\ndisplay: block;\n}\n.hoogle-name {\ncolor: green;\nfont-weight: bold;\n}\n.hoogle-head {\nfont-weight: bold;\n}\n.hoogle-sub {\ndisplay: block;\nmargin-left: 0.4em;\n}\n.hoogle-package {\nfont-weight: bold;\nfont-style: italic;\n}\n.hoogle-module {\nfont-weight: bold;\n}\n.hoogle-class {\nfont-weight: bold;\n}\n.get-type {\ncolor: green;\nfont-weight: bold;\nfont-family: monospace;\ndisplay: block;\nwhite-space: pre-wrap;\n}\n.show-type {\ncolor: green;\nfont-weight: bold;\nfont-family: monospace;\nmargin-left: 1em;\n}\n.mono {\nfont-family: monospace;\ndisplay: block;\n}\n.err-msg {\ncolor: red;\nfont-style: italic;\nfont-family: monospace;\nwhite-space: pre;\ndisplay: block;\n}\n#unshowable {\ncolor: red;\nfont-weight: bold;\n}\n.err-msg.in.collapse {\npadding-top: 0.7em;\n}\n.highlight-code {\nwhite-space: pre;\nfont-family: monospace;\n}\n.suggestion-warning { \nfont-weight: bold;\ncolor: rgb(200, 130, 0);\n}\n.suggestion-error { \nfont-weight: bold;\ncolor: red;\n}\n.suggestion-name {\nfont-weight: bold;\n}\n</style><span class='get-type'>Company \"Pear Inc.\" 342 \"Mr. Sparrow\" \"CEO\" :: Client</span>",
      "text/plain": "Company \"Pear Inc.\" 342 \"Mr. Sparrow\" \"CEO\" :: Client"
     },
     "metadata": {}
    },
    {
     "output_type": "display_data",
     "data": {
      "text/html": "<style>/* Styles used for the Hoogle display in the pager */\n.hoogle-doc {\ndisplay: block;\npadding-bottom: 1.3em;\npadding-left: 0.4em;\n}\n.hoogle-code {\ndisplay: block;\nfont-family: monospace;\nwhite-space: pre;\n}\n.hoogle-text {\ndisplay: block;\n}\n.hoogle-name {\ncolor: green;\nfont-weight: bold;\n}\n.hoogle-head {\nfont-weight: bold;\n}\n.hoogle-sub {\ndisplay: block;\nmargin-left: 0.4em;\n}\n.hoogle-package {\nfont-weight: bold;\nfont-style: italic;\n}\n.hoogle-module {\nfont-weight: bold;\n}\n.hoogle-class {\nfont-weight: bold;\n}\n.get-type {\ncolor: green;\nfont-weight: bold;\nfont-family: monospace;\ndisplay: block;\nwhite-space: pre-wrap;\n}\n.show-type {\ncolor: green;\nfont-weight: bold;\nfont-family: monospace;\nmargin-left: 1em;\n}\n.mono {\nfont-family: monospace;\ndisplay: block;\n}\n.err-msg {\ncolor: red;\nfont-style: italic;\nfont-family: monospace;\nwhite-space: pre;\ndisplay: block;\n}\n#unshowable {\ncolor: red;\nfont-weight: bold;\n}\n.err-msg.in.collapse {\npadding-top: 0.7em;\n}\n.highlight-code {\nwhite-space: pre;\nfont-family: monospace;\n}\n.suggestion-warning { \nfont-weight: bold;\ncolor: rgb(200, 130, 0);\n}\n.suggestion-error { \nfont-weight: bold;\ncolor: red;\n}\n.suggestion-name {\nfont-weight: bold;\n}\n</style><span class='get-type'>Individual \"Jack\" \"Smith\" True :: Client</span>",
      "text/plain": "Individual \"Jack\" \"Smith\" True :: Client"
     },
     "metadata": {}
    },
    {
     "output_type": "display_data",
     "data": {
      "text/plain": "Individual \"Jack\" \"Smith\" True"
     },
     "metadata": {}
    }
   ],
   "source": [
    ":t GovOrg \"Nasa\"\n",
    "\n",
    ":t Company \"Pear Inc.\" 342 \"Mr. Sparrow\" \"CEO\"\n",
    "\n",
    ":t Individual \"Jack\" \"Smith\" True\n",
    "\n",
    "Individual \"Jack\" \"Smith\" True"
   ]
  },
  {
   "cell_type": "code",
   "execution_count": 11,
   "metadata": {},
   "outputs": [],
   "source": [
    "data Client = GovOrg String\n",
    "            | Company String Integer Person String\n",
    "            | Individual Person Bool\n",
    "            deriving Show\n",
    "\n",
    "data Person = Person String String\n",
    "            deriving Show\n",
    "            "
   ]
  },
  {
   "source": [
    "- A new ADT with the same constructor names would get a build error, because inside a module all constructors must have different names. Otherwise compiler wouldn't be able to distinguish which type to create.\n",
    "- Data type and constructor names live in different worlds. That means it is possible to create a constructor with the same name as a data type. Indeed, it's a common convention for one-alternative types, such as Person, to have two names that coincide.\n",
    "- To be able to use the default deriving functionality, all types used inside another one must be showable. For instance, if `deriving Show` was not included in `Person`, a compilation error would be signaled."
   ],
   "cell_type": "markdown",
   "metadata": {}
  },
  {
   "cell_type": "code",
   "execution_count": 11,
   "metadata": {},
   "outputs": [],
   "source": [
    "data Gender = Male | Female | Unknown\n",
    "            deriving Show\n",
    "\n",
    "data Person = Person String String Gender\n",
    "            deriving Show\n",
    "\n",
    "data Client = GovOrg String\n",
    "            | Company String Integer Person String\n",
    "            | Individual Person Bool\n",
    "            deriving Show\n"
   ]
  },
  {
   "cell_type": "code",
   "execution_count": 12,
   "metadata": {},
   "outputs": [
    {
     "output_type": "display_data",
     "data": {
      "text/html": "<style>/* Styles used for the Hoogle display in the pager */\n.hoogle-doc {\ndisplay: block;\npadding-bottom: 1.3em;\npadding-left: 0.4em;\n}\n.hoogle-code {\ndisplay: block;\nfont-family: monospace;\nwhite-space: pre;\n}\n.hoogle-text {\ndisplay: block;\n}\n.hoogle-name {\ncolor: green;\nfont-weight: bold;\n}\n.hoogle-head {\nfont-weight: bold;\n}\n.hoogle-sub {\ndisplay: block;\nmargin-left: 0.4em;\n}\n.hoogle-package {\nfont-weight: bold;\nfont-style: italic;\n}\n.hoogle-module {\nfont-weight: bold;\n}\n.hoogle-class {\nfont-weight: bold;\n}\n.get-type {\ncolor: green;\nfont-weight: bold;\nfont-family: monospace;\ndisplay: block;\nwhite-space: pre-wrap;\n}\n.show-type {\ncolor: green;\nfont-weight: bold;\nfont-family: monospace;\nmargin-left: 1em;\n}\n.mono {\nfont-family: monospace;\ndisplay: block;\n}\n.err-msg {\ncolor: red;\nfont-style: italic;\nfont-family: monospace;\nwhite-space: pre;\ndisplay: block;\n}\n#unshowable {\ncolor: red;\nfont-weight: bold;\n}\n.err-msg.in.collapse {\npadding-top: 0.7em;\n}\n.highlight-code {\nwhite-space: pre;\nfont-family: monospace;\n}\n.suggestion-warning { \nfont-weight: bold;\ncolor: rgb(200, 130, 0);\n}\n.suggestion-error { \nfont-weight: bold;\ncolor: red;\n}\n.suggestion-name {\nfont-weight: bold;\n}\n</style><span class='get-type'>individual :: Client</span>",
      "text/plain": "individual :: Client"
     },
     "metadata": {}
    }
   ],
   "source": [
    "individual = Individual (Person \"Scott\" \"Chu\" Male) False\n",
    "\n",
    ":t individual"
   ]
  },
  {
   "source": [
    "### Pattern Matching\n",
    "\n",
    "#### Simple Patterns"
   ],
   "cell_type": "markdown",
   "metadata": {}
  },
  {
   "cell_type": "code",
   "execution_count": 13,
   "metadata": {},
   "outputs": [],
   "source": [
    "clientName :: Client -> String\n",
    "clientName client = case client of\n",
    "                    GovOrg name                 -> name\n",
    "                    Company name _ _ _          -> name\n",
    "                    Individual person ads       -> \n",
    "                        case person of\n",
    "                            Person fN lN _ -> fN ++ \" \" ++ lN"
   ]
  },
  {
   "cell_type": "code",
   "execution_count": 14,
   "metadata": {},
   "outputs": [
    {
     "output_type": "display_data",
     "data": {
      "text/plain": "\"Nasa\""
     },
     "metadata": {}
    },
    {
     "output_type": "display_data",
     "data": {
      "text/plain": "\"Pear Inc.\""
     },
     "metadata": {}
    },
    {
     "output_type": "display_data",
     "data": {
      "text/plain": "\"Jack Smith\""
     },
     "metadata": {}
    }
   ],
   "source": [
    "clientName (GovOrg \"Nasa\")\n",
    "\n",
    "clientName (Company \"Pear Inc.\" 342 (Person \"Jack\" \"Sparrow\" Male) \"CEO\")\n",
    "\n",
    "clientName (Individual (Person \"Jack\" \"Smith\" Male) True)"
   ]
  },
  {
   "cell_type": "code",
   "execution_count": 16,
   "metadata": {},
   "outputs": [],
   "source": [
    "companyName :: Client -> Maybe String\n",
    "companyName client = case client of \n",
    "    Company name _ _ _ -> Just name\n",
    "    _                  -> Nothing"
   ]
  },
  {
   "cell_type": "code",
   "execution_count": 22,
   "metadata": {},
   "outputs": [
    {
     "output_type": "display_data",
     "data": {
      "text/plain": "\"Pear Inc.\""
     },
     "metadata": {}
    }
   ],
   "source": [
    "company = Company \"Pear Inc.\" 342 (Person \"Jack\" \"Sparrow\" Male) \"CEO\"\n",
    "\n",
    "let Just value = companyName company\n",
    "\n",
    "value"
   ]
  },
  {
   "cell_type": "code",
   "execution_count": 26,
   "metadata": {},
   "outputs": [],
   "source": [
    "fibonacci :: Integer -> Integer\n",
    "fibonacci 0 = 0\n",
    "fibonacci 1 = 1\n",
    "fibonacci x = fibonacci (x - 1) + fibonacci (x - 2)"
   ]
  },
  {
   "cell_type": "code",
   "execution_count": 27,
   "metadata": {},
   "outputs": [
    {
     "output_type": "display_data",
     "data": {
      "text/plain": "55"
     },
     "metadata": {}
    }
   ],
   "source": [
    "fibonacci 10"
   ]
  },
  {
   "cell_type": "code",
   "execution_count": 28,
   "metadata": {},
   "outputs": [],
   "source": [
    "clientName (GovOrg name)                        = name\n",
    "clientName (Company name _ _ _)                 = name\n",
    "clientName (Individual (Person fNm lNm _) _)    = fNm ++ \" \" ++ lNm"
   ]
  },
  {
   "source": [
    "### Lists and Tuples"
   ],
   "cell_type": "markdown",
   "metadata": {}
  },
  {
   "cell_type": "code",
   "execution_count": 30,
   "metadata": {},
   "outputs": [],
   "source": [
    "(+++) :: [a] -> [a] -> [a]\n",
    "xs +++ ys = case xs of\n",
    "            [] -> ys\n",
    "            x:xs -> x:(xs +++ ys)"
   ]
  },
  {
   "cell_type": "code",
   "execution_count": 33,
   "metadata": {},
   "outputs": [
    {
     "output_type": "display_data",
     "data": {
      "text/plain": "[4,5,6]"
     },
     "metadata": {}
    },
    {
     "output_type": "display_data",
     "data": {
      "text/plain": "[1,2,3,4,5,6]"
     },
     "metadata": {}
    }
   ],
   "source": [
    "[] +++ [4, 5, 6]\n",
    "[1, 2, 3] +++ [4, 5, 6]"
   ]
  },
  {
   "cell_type": "code",
   "execution_count": 41,
   "metadata": {},
   "outputs": [],
   "source": [
    "sorted :: [Integer] -> Bool\n",
    "sorted []       = True\n",
    "sorted [_]      = True\n",
    "sorted (x:y:zs) = x < y && sorted (y:zs)"
   ]
  },
  {
   "cell_type": "code",
   "execution_count": 40,
   "metadata": {},
   "outputs": [
    {
     "output_type": "display_data",
     "data": {
      "text/plain": "True"
     },
     "metadata": {}
    },
    {
     "output_type": "display_data",
     "data": {
      "text/plain": "False"
     },
     "metadata": {}
    }
   ],
   "source": [
    "sorted [1, 2, 3]\n",
    "sorted [4, 5, 3]"
   ]
  },
  {
   "cell_type": "code",
   "execution_count": 44,
   "metadata": {},
   "outputs": [],
   "source": [
    "sorted []           = True\n",
    "sorted [_]          = True\n",
    "sorted (x:r@(y:_))  = x < y && sorted r"
   ]
  },
  {
   "cell_type": "code",
   "execution_count": 46,
   "metadata": {},
   "outputs": [
    {
     "output_type": "display_data",
     "data": {
      "text/plain": "True"
     },
     "metadata": {}
    },
    {
     "output_type": "display_data",
     "data": {
      "text/plain": "False"
     },
     "metadata": {}
    }
   ],
   "source": [
    "sorted [1, 2, 3]\n",
    "sorted [4, 5, 3]"
   ]
  },
  {
   "cell_type": "code",
   "execution_count": 47,
   "metadata": {},
   "outputs": [],
   "source": [
    "maxmin [x]      = (x, x)\n",
    "maxmin (x:xs)   = ( if x > xs_max then x else xs_max\n",
    "                  , if x < xs_min then x else xs_min\n",
    "                  ) where (xs_max, xs_min) = maxmin xs"
   ]
  },
  {
   "cell_type": "code",
   "execution_count": 49,
   "metadata": {},
   "outputs": [
    {
     "output_type": "display_data",
     "data": {
      "text/plain": "(3,1)"
     },
     "metadata": {}
    },
    {
     "output_type": "display_data",
     "data": {
      "text/plain": "(10,3)"
     },
     "metadata": {}
    }
   ],
   "source": [
    "maxmin [1, 2, 3]\n",
    "maxmin [4, 5, 3, 7, 10]"
   ]
  },
  {
   "source": [
    "### Guards\n",
    "\n",
    "a *guard* is part of the pattern-matching syntax allows you to refine a pattern using Boolean conditions that must be fulfilled by the bound values after a successful match. guards are useful for writing cleaner code and avoiding certain problems, helping you to obtain the full power of pattern matching."
   ],
   "cell_type": "markdown",
   "metadata": {}
  },
  {
   "cell_type": "code",
   "execution_count": 51,
   "metadata": {},
   "outputs": [],
   "source": [
    "fibonacci :: Integer -> Maybe Integer\n",
    "fibonacci n = if n < 0\n",
    "            then Nothing\n",
    "            else case n of \n",
    "                0 -> Just 0\n",
    "                1 -> Just 1\n",
    "                n' -> let Just f1 = fibonacci (n' - 1)\n",
    "                          Just f2 = fibonacci (n' - 2)\n",
    "                      in Just (f1 + f2)"
   ]
  },
  {
   "cell_type": "code",
   "execution_count": 52,
   "metadata": {},
   "outputs": [
    {
     "output_type": "display_data",
     "data": {
      "text/plain": "Just 55"
     },
     "metadata": {}
    }
   ],
   "source": [
    "fibonacci 10"
   ]
  },
  {
   "source": [],
   "cell_type": "code",
   "metadata": {},
   "execution_count": null,
   "outputs": []
  }
 ],
 "metadata": {
  "kernelspec": {
   "display_name": "Haskell",
   "language": "haskell",
   "name": "haskell"
  },
  "language_info": {
   "codemirror_mode": "ihaskell",
   "file_extension": ".hs",
   "mimetype": "text/x-haskell",
   "name": "haskell",
   "pygments_lexer": "Haskell",
   "version": "8.8.4"
  }
 },
 "nbformat": 4,
 "nbformat_minor": 4
}